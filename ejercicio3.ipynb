{
 "cells": [
  {
   "cell_type": "code",
   "execution_count": null,
   "id": "8c984419-501f-4a60-8f4b-a9c0605e41e5",
   "metadata": {},
   "outputs": [],
   "source": [
    "class abuelo: \n",
    "    pass\n",
    "class Azul1(abuelo):\n",
    "    pass\n",
    "class Rosa2:\n",
    "    pass\n",
    "class Morado3(Azul1, Rosa2):\n",
    "    pass"
   ]
  }
 ],
 "metadata": {
  "kernelspec": {
   "display_name": "Python [conda env:base] *",
   "language": "python",
   "name": "conda-base-py"
  },
  "language_info": {
   "codemirror_mode": {
    "name": "ipython",
    "version": 3
   },
   "file_extension": ".py",
   "mimetype": "text/x-python",
   "name": "python",
   "nbconvert_exporter": "python",
   "pygments_lexer": "ipython3",
   "version": "3.12.7"
  }
 },
 "nbformat": 4,
 "nbformat_minor": 5
}
